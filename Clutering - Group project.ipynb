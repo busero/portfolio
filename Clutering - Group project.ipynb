{
 "cells": [
  {
   "cell_type": "markdown",
   "metadata": {},
   "source": [
    "# Group clients by RWA and LRD"
   ]
  },
  {
   "cell_type": "code",
   "execution_count": 6,
   "metadata": {},
   "outputs": [],
   "source": [
    "import pandas as pd\n",
    "import matplotlib.pyplot as plt\n",
    "from sklearn.cluster import KMeans\n",
    "from sklearn.preprocessing import scale\n",
    "%matplotlib inline"
   ]
  },
  {
   "cell_type": "code",
   "execution_count": 36,
   "metadata": {},
   "outputs": [],
   "source": [
    "data = pd.read_csv('RWA_LRD_version15.txt',sep='\\t')"
   ]
  },
  {
   "cell_type": "code",
   "execution_count": 24,
   "metadata": {},
   "outputs": [
    {
     "data": {
      "text/html": [
       "<div>\n",
       "<style scoped>\n",
       "    .dataframe tbody tr th:only-of-type {\n",
       "        vertical-align: middle;\n",
       "    }\n",
       "\n",
       "    .dataframe tbody tr th {\n",
       "        vertical-align: top;\n",
       "    }\n",
       "\n",
       "    .dataframe thead th {\n",
       "        text-align: right;\n",
       "    }\n",
       "</style>\n",
       "<table border=\"1\" class=\"dataframe\">\n",
       "  <thead>\n",
       "    <tr style=\"text-align: right;\">\n",
       "      <th></th>\n",
       "      <th>Client_Name_Anon</th>\n",
       "      <th>Code_Category</th>\n",
       "      <th>Sector</th>\n",
       "      <th>Collateralised</th>\n",
       "      <th>SIMM</th>\n",
       "      <th>Credit_Rating</th>\n",
       "      <th>Sum_B3_RWA_CHF</th>\n",
       "      <th>Sum_B3_LRD_CHF</th>\n",
       "    </tr>\n",
       "  </thead>\n",
       "  <tbody>\n",
       "    <tr>\n",
       "      <th>0</th>\n",
       "      <td>Client_Name_Anon_1</td>\n",
       "      <td>NoClient1</td>\n",
       "      <td>Journal</td>\n",
       "      <td>No_data</td>\n",
       "      <td>No</td>\n",
       "      <td>No_Data</td>\n",
       "      <td>2.147389e+09</td>\n",
       "      <td>2.748477e+08</td>\n",
       "    </tr>\n",
       "    <tr>\n",
       "      <th>1</th>\n",
       "      <td>Client_Name_Anon_2</td>\n",
       "      <td>NoClient2</td>\n",
       "      <td>Journal</td>\n",
       "      <td>No_data</td>\n",
       "      <td>No</td>\n",
       "      <td>No_Data</td>\n",
       "      <td>1.714459e+06</td>\n",
       "      <td>NaN</td>\n",
       "    </tr>\n",
       "    <tr>\n",
       "      <th>2</th>\n",
       "      <td>Client_Name_Anon_3</td>\n",
       "      <td>Internal1</td>\n",
       "      <td>Internal</td>\n",
       "      <td>No_data</td>\n",
       "      <td>No</td>\n",
       "      <td>No_Data</td>\n",
       "      <td>-1.659924e+05</td>\n",
       "      <td>2.030446e+10</td>\n",
       "    </tr>\n",
       "    <tr>\n",
       "      <th>3</th>\n",
       "      <td>Client_Name_Anon_4</td>\n",
       "      <td>Internal2</td>\n",
       "      <td>Internal</td>\n",
       "      <td>No_data</td>\n",
       "      <td>No</td>\n",
       "      <td>No_Data</td>\n",
       "      <td>3.009220e+03</td>\n",
       "      <td>5.511340e+05</td>\n",
       "    </tr>\n",
       "    <tr>\n",
       "      <th>4</th>\n",
       "      <td>Client_Name_Anon_5</td>\n",
       "      <td>No_Sector</td>\n",
       "      <td>No_Sector</td>\n",
       "      <td>No_data</td>\n",
       "      <td>Yes</td>\n",
       "      <td>No_Data</td>\n",
       "      <td>2.170612e+07</td>\n",
       "      <td>6.277612e+07</td>\n",
       "    </tr>\n",
       "  </tbody>\n",
       "</table>\n",
       "</div>"
      ],
      "text/plain": [
       "     Client_Name_Anon Code_Category     Sector Collateralised SIMM  \\\n",
       "0  Client_Name_Anon_1     NoClient1    Journal        No_data   No   \n",
       "1  Client_Name_Anon_2     NoClient2    Journal        No_data   No   \n",
       "2  Client_Name_Anon_3     Internal1   Internal        No_data   No   \n",
       "3  Client_Name_Anon_4     Internal2   Internal        No_data   No   \n",
       "4  Client_Name_Anon_5     No_Sector  No_Sector        No_data  Yes   \n",
       "\n",
       "  Credit_Rating  Sum_B3_RWA_CHF  Sum_B3_LRD_CHF  \n",
       "0       No_Data    2.147389e+09    2.748477e+08  \n",
       "1       No_Data    1.714459e+06             NaN  \n",
       "2       No_Data   -1.659924e+05    2.030446e+10  \n",
       "3       No_Data    3.009220e+03    5.511340e+05  \n",
       "4       No_Data    2.170612e+07    6.277612e+07  "
      ]
     },
     "execution_count": 24,
     "metadata": {},
     "output_type": "execute_result"
    }
   ],
   "source": [
    "data.head()"
   ]
  },
  {
   "cell_type": "code",
   "execution_count": 25,
   "metadata": {},
   "outputs": [
    {
     "name": "stdout",
     "output_type": "stream",
     "text": [
      "<class 'pandas.core.frame.DataFrame'>\n",
      "RangeIndex: 9322 entries, 0 to 9321\n",
      "Data columns (total 8 columns):\n",
      "Client_Name_Anon    9322 non-null object\n",
      "Code_Category       9322 non-null object\n",
      "Sector              9322 non-null object\n",
      "Collateralised      9322 non-null object\n",
      "SIMM                9322 non-null object\n",
      "Credit_Rating       9322 non-null object\n",
      "Sum_B3_RWA_CHF      8611 non-null float64\n",
      "Sum_B3_LRD_CHF      8585 non-null float64\n",
      "dtypes: float64(2), object(6)\n",
      "memory usage: 582.7+ KB\n"
     ]
    }
   ],
   "source": [
    "data.info()"
   ]
  },
  {
   "cell_type": "code",
   "execution_count": 30,
   "metadata": {},
   "outputs": [
    {
     "data": {
      "text/html": [
       "<div>\n",
       "<style scoped>\n",
       "    .dataframe tbody tr th:only-of-type {\n",
       "        vertical-align: middle;\n",
       "    }\n",
       "\n",
       "    .dataframe tbody tr th {\n",
       "        vertical-align: top;\n",
       "    }\n",
       "\n",
       "    .dataframe thead th {\n",
       "        text-align: right;\n",
       "    }\n",
       "</style>\n",
       "<table border=\"1\" class=\"dataframe\">\n",
       "  <thead>\n",
       "    <tr style=\"text-align: right;\">\n",
       "      <th></th>\n",
       "      <th>RWA</th>\n",
       "      <th>LRD</th>\n",
       "    </tr>\n",
       "  </thead>\n",
       "  <tbody>\n",
       "    <tr>\n",
       "      <th>count</th>\n",
       "      <td>8.611000e+03</td>\n",
       "      <td>8.585000e+03</td>\n",
       "    </tr>\n",
       "    <tr>\n",
       "      <th>mean</th>\n",
       "      <td>1.607223e+06</td>\n",
       "      <td>8.347716e+06</td>\n",
       "    </tr>\n",
       "    <tr>\n",
       "      <th>std</th>\n",
       "      <td>2.409040e+07</td>\n",
       "      <td>2.423817e+08</td>\n",
       "    </tr>\n",
       "    <tr>\n",
       "      <th>min</th>\n",
       "      <td>-6.029520e+06</td>\n",
       "      <td>-4.792914e+09</td>\n",
       "    </tr>\n",
       "    <tr>\n",
       "      <th>25%</th>\n",
       "      <td>4.330700e+02</td>\n",
       "      <td>1.619200e+04</td>\n",
       "    </tr>\n",
       "    <tr>\n",
       "      <th>50%</th>\n",
       "      <td>2.660294e+04</td>\n",
       "      <td>1.634440e+05</td>\n",
       "    </tr>\n",
       "    <tr>\n",
       "      <th>75%</th>\n",
       "      <td>3.262978e+05</td>\n",
       "      <td>1.275466e+06</td>\n",
       "    </tr>\n",
       "    <tr>\n",
       "      <th>max</th>\n",
       "      <td>2.147389e+09</td>\n",
       "      <td>2.030446e+10</td>\n",
       "    </tr>\n",
       "  </tbody>\n",
       "</table>\n",
       "</div>"
      ],
      "text/plain": [
       "                RWA           LRD\n",
       "count  8.611000e+03  8.585000e+03\n",
       "mean   1.607223e+06  8.347716e+06\n",
       "std    2.409040e+07  2.423817e+08\n",
       "min   -6.029520e+06 -4.792914e+09\n",
       "25%    4.330700e+02  1.619200e+04\n",
       "50%    2.660294e+04  1.634440e+05\n",
       "75%    3.262978e+05  1.275466e+06\n",
       "max    2.147389e+09  2.030446e+10"
      ]
     },
     "execution_count": 30,
     "metadata": {},
     "output_type": "execute_result"
    }
   ],
   "source": [
    "data.describe()\n",
    "# some missing LRD data points"
   ]
  },
  {
   "cell_type": "code",
   "execution_count": 37,
   "metadata": {},
   "outputs": [
    {
     "data": {
      "text/html": [
       "<div>\n",
       "<style scoped>\n",
       "    .dataframe tbody tr th:only-of-type {\n",
       "        vertical-align: middle;\n",
       "    }\n",
       "\n",
       "    .dataframe tbody tr th {\n",
       "        vertical-align: top;\n",
       "    }\n",
       "\n",
       "    .dataframe thead th {\n",
       "        text-align: right;\n",
       "    }\n",
       "</style>\n",
       "<table border=\"1\" class=\"dataframe\">\n",
       "  <thead>\n",
       "    <tr style=\"text-align: right;\">\n",
       "      <th></th>\n",
       "      <th>Client</th>\n",
       "      <th>Category</th>\n",
       "      <th>Sector</th>\n",
       "      <th>Collateralised</th>\n",
       "      <th>SIMM</th>\n",
       "      <th>CreditRating</th>\n",
       "      <th>RWA</th>\n",
       "      <th>LRD</th>\n",
       "    </tr>\n",
       "  </thead>\n",
       "  <tbody>\n",
       "    <tr>\n",
       "      <th>0</th>\n",
       "      <td>Client_Name_Anon_1</td>\n",
       "      <td>NoClient1</td>\n",
       "      <td>Journal</td>\n",
       "      <td>No_data</td>\n",
       "      <td>No</td>\n",
       "      <td>No_Data</td>\n",
       "      <td>2.147389e+09</td>\n",
       "      <td>2.748477e+08</td>\n",
       "    </tr>\n",
       "    <tr>\n",
       "      <th>1</th>\n",
       "      <td>Client_Name_Anon_2</td>\n",
       "      <td>NoClient2</td>\n",
       "      <td>Journal</td>\n",
       "      <td>No_data</td>\n",
       "      <td>No</td>\n",
       "      <td>No_Data</td>\n",
       "      <td>1.714459e+06</td>\n",
       "      <td>NaN</td>\n",
       "    </tr>\n",
       "    <tr>\n",
       "      <th>2</th>\n",
       "      <td>Client_Name_Anon_3</td>\n",
       "      <td>Internal1</td>\n",
       "      <td>Internal</td>\n",
       "      <td>No_data</td>\n",
       "      <td>No</td>\n",
       "      <td>No_Data</td>\n",
       "      <td>-1.659924e+05</td>\n",
       "      <td>2.030446e+10</td>\n",
       "    </tr>\n",
       "    <tr>\n",
       "      <th>3</th>\n",
       "      <td>Client_Name_Anon_4</td>\n",
       "      <td>Internal2</td>\n",
       "      <td>Internal</td>\n",
       "      <td>No_data</td>\n",
       "      <td>No</td>\n",
       "      <td>No_Data</td>\n",
       "      <td>3.009220e+03</td>\n",
       "      <td>5.511340e+05</td>\n",
       "    </tr>\n",
       "    <tr>\n",
       "      <th>4</th>\n",
       "      <td>Client_Name_Anon_5</td>\n",
       "      <td>No_Sector</td>\n",
       "      <td>No_Sector</td>\n",
       "      <td>No_data</td>\n",
       "      <td>Yes</td>\n",
       "      <td>No_Data</td>\n",
       "      <td>2.170612e+07</td>\n",
       "      <td>6.277612e+07</td>\n",
       "    </tr>\n",
       "  </tbody>\n",
       "</table>\n",
       "</div>"
      ],
      "text/plain": [
       "               Client   Category     Sector Collateralised SIMM CreditRating  \\\n",
       "0  Client_Name_Anon_1  NoClient1    Journal        No_data   No      No_Data   \n",
       "1  Client_Name_Anon_2  NoClient2    Journal        No_data   No      No_Data   \n",
       "2  Client_Name_Anon_3  Internal1   Internal        No_data   No      No_Data   \n",
       "3  Client_Name_Anon_4  Internal2   Internal        No_data   No      No_Data   \n",
       "4  Client_Name_Anon_5  No_Sector  No_Sector        No_data  Yes      No_Data   \n",
       "\n",
       "            RWA           LRD  \n",
       "0  2.147389e+09  2.748477e+08  \n",
       "1  1.714459e+06           NaN  \n",
       "2 -1.659924e+05  2.030446e+10  \n",
       "3  3.009220e+03  5.511340e+05  \n",
       "4  2.170612e+07  6.277612e+07  "
      ]
     },
     "execution_count": 37,
     "metadata": {},
     "output_type": "execute_result"
    }
   ],
   "source": [
    "data.columns = ['Client', 'Category', 'Sector', 'Collateralised', 'SIMM', 'CreditRating', 'RWA', 'LRD']\n",
    "data.head()"
   ]
  },
  {
   "cell_type": "code",
   "execution_count": 38,
   "metadata": {},
   "outputs": [
    {
     "data": {
      "text/html": [
       "<div>\n",
       "<style scoped>\n",
       "    .dataframe tbody tr th:only-of-type {\n",
       "        vertical-align: middle;\n",
       "    }\n",
       "\n",
       "    .dataframe tbody tr th {\n",
       "        vertical-align: top;\n",
       "    }\n",
       "\n",
       "    .dataframe thead th {\n",
       "        text-align: right;\n",
       "    }\n",
       "</style>\n",
       "<table border=\"1\" class=\"dataframe\">\n",
       "  <thead>\n",
       "    <tr style=\"text-align: right;\">\n",
       "      <th></th>\n",
       "      <th>RWA</th>\n",
       "      <th>LRD</th>\n",
       "    </tr>\n",
       "  </thead>\n",
       "  <tbody>\n",
       "    <tr>\n",
       "      <th>count</th>\n",
       "      <td>7.874000e+03</td>\n",
       "      <td>7.874000e+03</td>\n",
       "    </tr>\n",
       "    <tr>\n",
       "      <th>mean</th>\n",
       "      <td>1.754102e+06</td>\n",
       "      <td>8.597346e+06</td>\n",
       "    </tr>\n",
       "    <tr>\n",
       "      <th>std</th>\n",
       "      <td>2.518746e+07</td>\n",
       "      <td>2.527078e+08</td>\n",
       "    </tr>\n",
       "    <tr>\n",
       "      <th>min</th>\n",
       "      <td>-1.524498e+06</td>\n",
       "      <td>-4.792914e+09</td>\n",
       "    </tr>\n",
       "    <tr>\n",
       "      <th>25%</th>\n",
       "      <td>1.859945e+03</td>\n",
       "      <td>1.617800e+04</td>\n",
       "    </tr>\n",
       "    <tr>\n",
       "      <th>50%</th>\n",
       "      <td>3.940793e+04</td>\n",
       "      <td>1.430920e+05</td>\n",
       "    </tr>\n",
       "    <tr>\n",
       "      <th>75%</th>\n",
       "      <td>4.010957e+05</td>\n",
       "      <td>1.075752e+06</td>\n",
       "    </tr>\n",
       "    <tr>\n",
       "      <th>max</th>\n",
       "      <td>2.147389e+09</td>\n",
       "      <td>2.030446e+10</td>\n",
       "    </tr>\n",
       "  </tbody>\n",
       "</table>\n",
       "</div>"
      ],
      "text/plain": [
       "                RWA           LRD\n",
       "count  7.874000e+03  7.874000e+03\n",
       "mean   1.754102e+06  8.597346e+06\n",
       "std    2.518746e+07  2.527078e+08\n",
       "min   -1.524498e+06 -4.792914e+09\n",
       "25%    1.859945e+03  1.617800e+04\n",
       "50%    3.940793e+04  1.430920e+05\n",
       "75%    4.010957e+05  1.075752e+06\n",
       "max    2.147389e+09  2.030446e+10"
      ]
     },
     "execution_count": 38,
     "metadata": {},
     "output_type": "execute_result"
    }
   ],
   "source": [
    "data=data.dropna(axis='index')\n",
    "data.describe()"
   ]
  },
  {
   "cell_type": "code",
   "execution_count": 39,
   "metadata": {},
   "outputs": [
    {
     "data": {
      "text/plain": [
       "<matplotlib.axes._subplots.AxesSubplot at 0xcae7710>"
      ]
     },
     "execution_count": 39,
     "metadata": {},
     "output_type": "execute_result"
    },
    {
     "data": {
      "image/png": "[encoded data removed]",
      "text/plain": [
       "<Figure size 432x288 with 1 Axes>"
      ]
     },
     "metadata": {
      "needs_background": "light"
     },
     "output_type": "display_data"
    }
   ],
   "source": [
    "data.plot.scatter(x='RWA', y='LRD')"
   ]
  },
  {
   "cell_type": "markdown",
   "metadata": {},
   "source": [
    "# Clustering"
   ]
  },
  {
   "cell_type": "code",
   "execution_count": 40,
   "metadata": {},
   "outputs": [],
   "source": [
    "data = data.drop(['Client', 'Category', 'Sector', 'Collateralised', 'SIMM', 'CreditRating'], axis=1)"
   ]
  },
  {
   "cell_type": "code",
   "execution_count": 41,
   "metadata": {},
   "outputs": [
    {
     "data": {
      "text/plain": [
       "KMeans(algorithm='auto', copy_x=True, init='k-means++', max_iter=300,\n",
       "    n_clusters=5, n_init=10, n_jobs=None, precompute_distances='auto',\n",
       "    random_state=None, tol=0.0001, verbose=0)"
      ]
     },
     "execution_count": 41,
     "metadata": {},
     "output_type": "execute_result"
    }
   ],
   "source": [
    "model = KMeans(n_clusters=5)\n",
    "model.fit(scale(data))"
   ]
  },
  {
   "cell_type": "code",
   "execution_count": 42,
   "metadata": {},
   "outputs": [],
   "source": [
    "data['cluster'] = model.labels_"
   ]
  },
  {
   "cell_type": "code",
   "execution_count": 44,
   "metadata": {},
   "outputs": [
    {
     "data": {
      "text/html": [
       "<div>\n",
       "<style scoped>\n",
       "    .dataframe tbody tr th:only-of-type {\n",
       "        vertical-align: middle;\n",
       "    }\n",
       "\n",
       "    .dataframe tbody tr th {\n",
       "        vertical-align: top;\n",
       "    }\n",
       "\n",
       "    .dataframe thead th {\n",
       "        text-align: right;\n",
       "    }\n",
       "</style>\n",
       "<table border=\"1\" class=\"dataframe\">\n",
       "  <thead>\n",
       "    <tr style=\"text-align: right;\">\n",
       "      <th></th>\n",
       "      <th>RWA</th>\n",
       "      <th>LRD</th>\n",
       "      <th>cluster</th>\n",
       "    </tr>\n",
       "  </thead>\n",
       "  <tbody>\n",
       "    <tr>\n",
       "      <th>0</th>\n",
       "      <td>2.147389e+09</td>\n",
       "      <td>2.748477e+08</td>\n",
       "      <td>1</td>\n",
       "    </tr>\n",
       "    <tr>\n",
       "      <th>2</th>\n",
       "      <td>-1.659924e+05</td>\n",
       "      <td>2.030446e+10</td>\n",
       "      <td>2</td>\n",
       "    </tr>\n",
       "    <tr>\n",
       "      <th>3</th>\n",
       "      <td>3.009220e+03</td>\n",
       "      <td>5.511340e+05</td>\n",
       "      <td>0</td>\n",
       "    </tr>\n",
       "    <tr>\n",
       "      <th>4</th>\n",
       "      <td>2.170612e+07</td>\n",
       "      <td>6.277612e+07</td>\n",
       "      <td>0</td>\n",
       "    </tr>\n",
       "    <tr>\n",
       "      <th>5</th>\n",
       "      <td>3.075121e+07</td>\n",
       "      <td>1.376945e+07</td>\n",
       "      <td>0</td>\n",
       "    </tr>\n",
       "  </tbody>\n",
       "</table>\n",
       "</div>"
      ],
      "text/plain": [
       "            RWA           LRD  cluster\n",
       "0  2.147389e+09  2.748477e+08        1\n",
       "2 -1.659924e+05  2.030446e+10        2\n",
       "3  3.009220e+03  5.511340e+05        0\n",
       "4  2.170612e+07  6.277612e+07        0\n",
       "5  3.075121e+07  1.376945e+07        0"
      ]
     },
     "execution_count": 44,
     "metadata": {},
     "output_type": "execute_result"
    }
   ],
   "source": [
    "data.head()"
   ]
  },
  {
   "cell_type": "markdown",
   "metadata": {},
   "source": [
    "# Visualization"
   ]
  },
  {
   "cell_type": "code",
   "execution_count": 45,
   "metadata": {},
   "outputs": [],
   "source": [
    "groups = data.groupby('cluster')"
   ]
  },
  {
   "cell_type": "code",
   "execution_count": 46,
   "metadata": {},
   "outputs": [
    {
     "data": {
      "image/png": "[encoded data removed]",
      "text/plain": [
       "<Figure size 432x288 with 1 Axes>"
      ]
     },
     "metadata": {
      "needs_background": "light"
     },
     "output_type": "display_data"
    }
   ],
   "source": [
    "fig, ax = plt.subplots()\n",
    "for name, group in groups:\n",
    "    ax.plot(group.RWA, group.LRD, marker='o', linestyle='', label=name)\n",
    "\n",
    "# Add axis labels appropriately\n",
    "plt.xlabel('RWA (CHF)')\n",
    "plt.ylabel('LRD (CHF)')\n",
    "ax.legend()\n",
    "plt.show()"
   ]
  },
  {
   "cell_type": "markdown",
   "metadata": {},
   "source": [
    "# Finetuning"
   ]
  },
  {
   "cell_type": "code",
   "execution_count": 49,
   "metadata": {},
   "outputs": [
    {
     "data": {
      "image/png": "[encoded data removed]",
      "text/plain": [
       "<Figure size 432x288 with 1 Axes>"
      ]
     },
     "metadata": {
      "needs_background": "light"
     },
     "output_type": "display_data"
    }
   ],
   "source": [
    "#WSS elbow test to determine optimal number of clusters\n",
    "X = data[['RWA']]\n",
    "Y = data[['LRD']] \n",
    "numClusters = range(1, 10)\n",
    "kmeans = [KMeans(n_clusters=i) for i in numClusters]\n",
    "score = [kmeans[i].fit(Y).score(Y) for i in range(len(kmeans))]\n",
    "plt.plot(numClusters,score)\n",
    "plt.xlabel('Number of Clusters')\n",
    "plt.ylabel('Score')\n",
    "plt.title('Elbow Curve')\n",
    "plt.show()"
   ]
  }
 ],
 "metadata": {
  "kernelspec": {
   "display_name": "Python 3",
   "language": "python",
   "name": "python3"
  },
  "language_info": {
   "codemirror_mode": {
    "name": "ipython",
    "version": 3
   },
   "file_extension": ".py",
   "mimetype": "text/x-python",
   "name": "python",
   "nbconvert_exporter": "python",
   "pygments_lexer": "ipython3",
   "version": "3.6.7"
  }
 },
 "nbformat": 4,
 "nbformat_minor": 2
}
